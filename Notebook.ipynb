{
 "cells": [
  {
   "cell_type": "code",
   "execution_count": null,
   "id": "fc7c485b-26af-4f7f-945f-1d52dd41942e",
   "metadata": {},
   "outputs": [],
   "source": [
    "pip list\n"
   ]
  }
 ],
 "metadata": {
  "kernelspec": {
   "display_name": "Project_Turkey",
   "language": "python",
   "name": "project_turkey"
  }
 },
 "nbformat": 4,
 "nbformat_minor": 5
}
